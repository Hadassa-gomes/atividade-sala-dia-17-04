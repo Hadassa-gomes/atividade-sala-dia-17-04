{
 "cells": [
  {
   "cell_type": "code",
   "execution_count": 3,
   "metadata": {},
   "outputs": [
    {
     "name": "stdout",
     "output_type": "stream",
     "text": [
      "O imposto do carro é 1.5\n"
     ]
    }
   ],
   "source": [
    "anoCarro = int(input('Insira o ano do seu carro:'))\n",
    "valorCarro = float(input('Insira o valor do seu carro:'))\n",
    "if(anoCarro < 1990):\n",
    "    print ('o imposto do carro é', 1/100 * valorCarro)\n",
    "else:\n",
    "    print ('O imposto do carro é', 1.5/100 * valorCarro)\n",
    "\n"
   ]
  },
  {
   "cell_type": "code",
   "execution_count": 6,
   "metadata": {},
   "outputs": [
    {
     "name": "stdout",
     "output_type": "stream",
     "text": [
      "o seu salário antigo era de: 100.0 o seu novo salário é de: 140.0 a diferença é de: 40.0\n"
     ]
    }
   ],
   "source": [
    "cargo = input('Insira o valor do seu salário:')\n",
    "salario = float(input('Insira seu cargo:'))\n",
    "if (cargo == 'Gerente'):\n",
    "    print('o seu salário antigo era de:', salario, 'o seu novo salário é de:', (salario*10/100)+salario, 'a diferença é de:', (salario*10/100) )\n",
    "elif (cargo == 'Engenheiro'): \n",
    "    print('o seu salário antigo era de:', salario, 'o seu novo salário é de:', (salario*20/100)+salario, 'a diferença é de:', (salario*20/100) )\n",
    "elif (cargo == 'Técnico'):\n",
    "    print('o seu salário antigo era de:', salario, 'o seu novo salário é de:', (salario*30/100)+salario, 'a diferença é de:', (salario*30/100) )\n",
    "else: \n",
    "    print('o seu salário antigo era de:', salario, 'o seu novo salário é de:', (salario*40/100)+salario, 'a diferença é de:', (salario*40/100) )\n"
   ]
  }
 ],
 "metadata": {
  "kernelspec": {
   "display_name": "Python 3",
   "language": "python",
   "name": "python3"
  },
  "language_info": {
   "codemirror_mode": {
    "name": "ipython",
    "version": 3
   },
   "file_extension": ".py",
   "mimetype": "text/x-python",
   "name": "python",
   "nbconvert_exporter": "python",
   "pygments_lexer": "ipython3",
   "version": "3.11.9"
  }
 },
 "nbformat": 4,
 "nbformat_minor": 2
}
